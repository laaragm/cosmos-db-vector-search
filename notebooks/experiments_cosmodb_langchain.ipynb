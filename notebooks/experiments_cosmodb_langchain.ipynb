{
 "cells": [
  {
   "cell_type": "code",
   "execution_count": 1,
   "metadata": {},
   "outputs": [],
   "source": [
    "from dotenv import load_dotenv, find_dotenv\n",
    "import pandas as pd\n",
    "import os\n",
    "import getpass\n",
    "import json \n",
    "import openai\n",
    "from pymongo import MongoClient\n",
    "from langchain.embeddings.openai import OpenAIEmbeddings\n",
    "from langchain.vectorstores import MongoDBAtlasVectorSearch\n",
    "from langchain.chat_models import AzureChatOpenAI\n",
    "from langchain.schema import AIMessage, HumanMessage, SystemMessage\n",
    "from langchain import PromptTemplate"
   ]
  },
  {
   "cell_type": "code",
   "execution_count": 2,
   "metadata": {},
   "outputs": [],
   "source": [
    "# Initialize environment variables from .env file\n",
    "_ = load_dotenv(find_dotenv()) \n",
    "\n",
    "OPENAI_API_KEY = os.getenv(\"OPENAI_API_KEY\") \n",
    "OPENAI_DEPLOYMENT_ENDPOINT = os.getenv(\"OPENAI_DEPLOYMENT_ENDPOINT\")\n",
    "OPENAI_DEPLOYMENT_NAME = os.getenv(\"OPENAI_DEPLOYMENT_NAME\")\n",
    "OPENAI_MODEL_NAME = os.getenv(\"OPENAI_MODEL_NAME\")\n",
    "OPENAI_DEPLOYMENT_VERSION = os.getenv(\"OPENAI_DEPLOYMENT_VERSION\")\n",
    "OPENAI_EMBEDDING_DEPLOYMENT_NAME = os.getenv(\"OPENAI_EMBEDDING_DEPLOYMENT_NAME\")\n",
    "OPENAI_EMBEDDING_MODEL_NAME = os.getenv(\"OPENAI_EMBEDDING_MODEL_NAME\")\n",
    "MONGODB_ATLAS_CLUSTER_URI = os.getenv(\"MONGODB_ATLAS_CLUSTER_URI\")\n",
    "\n",
    "# Configure OpenAI API\n",
    "openai.api_type = \"azure\"\n",
    "openai.api_version = OPENAI_DEPLOYMENT_VERSION\n",
    "openai.api_base = OPENAI_DEPLOYMENT_ENDPOINT\n",
    "openai.api_key = OPENAI_API_KEY"
   ]
  },
  {
   "cell_type": "code",
   "execution_count": 32,
   "metadata": {},
   "outputs": [],
   "source": [
    "# initialize MongoDB python client\n",
    "client = MongoClient(MONGODB_ATLAS_CLUSTER_URI)\n",
    "\n",
    "db_name = \"mydb\"\n",
    "collection_name = \"vectors\"\n",
    "collection = client[db_name][collection_name]\n",
    "index_name = \"vectorSearchIndex\""
   ]
  },
  {
   "cell_type": "code",
   "execution_count": 33,
   "metadata": {},
   "outputs": [],
   "source": [
    "# initialize vector store\n",
    "embeddings = OpenAIEmbeddings(\n",
    "    deployment=OPENAI_EMBEDDING_DEPLOYMENT_NAME, \n",
    "    model=OPENAI_EMBEDDING_MODEL_NAME, \n",
    "    openai_api_base=OPENAI_DEPLOYMENT_ENDPOINT, \n",
    "    openai_api_type=\"azure\", \n",
    "    chunk_size=1\n",
    ")\n",
    "vector_store = MongoDBAtlasVectorSearch(collection, embeddings, index_name=index_name)"
   ]
  },
  {
   "cell_type": "code",
   "execution_count": 34,
   "metadata": {},
   "outputs": [
    {
     "data": {
      "text/plain": [
       "{'_id_': {'v': 2, 'key': [('_id', 1)]},\n",
       " 'vectorSearchIndex': {'v': 2,\n",
       "  'key': [('vector', 'cosmosSearch')],\n",
       "  'cosmosSearch': SON([('kind', 'vector-ivf'), ('numLists', 0), ('similarity', 'COS'), ('dimensions', 1536)])}}"
      ]
     },
     "execution_count": 34,
     "metadata": {},
     "output_type": "execute_result"
    }
   ],
   "source": [
    "client[db_name][collection_name].index_information()"
   ]
  },
  {
   "cell_type": "code",
   "execution_count": 35,
   "metadata": {},
   "outputs": [
    {
     "data": {
      "text/plain": [
       "[-0.0026670233346521854,\n",
       " 0.008907011710107327,\n",
       " -0.005533861927688122,\n",
       " -0.013235209509730339,\n",
       " -0.028421156108379364]"
      ]
     },
     "execution_count": 35,
     "metadata": {},
     "output_type": "execute_result"
    }
   ],
   "source": [
    "query = \"What are the key features of the Snake malware and how does it work?\"\n",
    "embedded_query = embeddings.embed_query(query)\n",
    "embedded_query[:5]"
   ]
  },
  {
   "cell_type": "code",
   "execution_count": 36,
   "metadata": {},
   "outputs": [
    {
     "name": "stdout",
     "output_type": "stream",
     "text": [
      "[{'documentName': 'joint_cybersecurity_advisory_snake_malware', 'content': '   International Partnership TLP:CLEAR Page 10 of 48  |  Product ID: AA23-129A TLP:CLEAREncrypted Registry Key Data Upon execution, Snake’s WerFault.exe will attempt to decrypt an encrypted blob within the Windows registry that is typically found at HKLM:\\\\SOFTWARE\\\\Classes\\\\.wav\\\\OpenWithProgIds. The encrypted data includes the AES key, IV, and path that is used to find and decrypt the file containing Snake’s kernel driver and kernel driver loader. The registry object’s structure can be seen on the right side of the following figure. Snake uses Microsoft Windows Cryptography API: Next Generation (CNG) key store to store the AES key needed to decrypt the registry object.12  Kernel Driver and Custom Loader Snake’s installer drops the kernel driver and a custom DLL which is used to load the driver into a single AES encrypted file on disk. Typically, this file is named “comadmin.dat” and is stored in the %windows%\\\\system32\\\\Com directory. The structure of this file can be seen on the left side of the figure above. The key, IV, and path to comadmin.dat are stored in the encrypted registry blob.13  12 MITRE ATT&CK IDs: [T1106], [T1112], [T1547.006] 13 MITRE ATT&CK IDs: [T1027], [T1547.006], [T1569.002], [T1574.002] '}, {'documentName': 'joint_cybersecurity_advisory_snake_malware', 'content': '   International Partnership TLP:CLEAR Page 40 of 48  |  Product ID: AA23-129A TLP:CLEAR} Werfault Typical Name: Werfault.exe Typical Path: %windows%\\\\WinSxS\\\\x86_microsoft-windows-errorreportingfaults_31bf3856ad364e35_4.0.9600.16384_none_a13f7e283339a0502\\\\ Unique Characteristics: Icon is different than that of a valid Windows Werfault.exe file Role: Persistence mechanism The Snake Werfault.exe file has non-standard icon sizes, which form the basis of the Yara rule below. This rule should be run on all files in the typical path, specifically the %Windows%\\\\WinSxS directory. rule PeIconSizes {     meta:         description = \"werfault rule\"      condition:         pe.is_pe          and          for any rsrc in pe.resources:             (rsrc.type == pe.RESOURCE_TYPE_ICON and rsrc.length == 3240)         and         for any rsrc in pe.resources:             (rsrc.type == pe.RESOURCE_TYPE_ICON and rsrc.length == 1384)         and         for any rsrc in pe.resources:             (rsrc.type == pe.RESOURCE_TYPE_ICON and rsrc.length == 7336) } Memory Analysis Advantages: High confidence as memory provides the greatest level of visibility into Snake’s behaviors and artifacts. Disadvantages: Potential impact on system stability, difficult scalability. Capturing and analyzing the memory of a system will be the most effective approach in detecting Snake because it bypasses many of the behaviors that Snake employs to hide itself. With a memory analysis tool, such as Volatility, detection of a Snake compromise may be possible. '}, {'documentName': 'joint_cybersecurity_advisory_snake_malware', 'content': '   International Partnership TLP:CLEAR Page 38 of 48  |  Product ID: AA23-129A TLP:CLEAREB 3C 90 4D 53 44 4F 53 EB 00 00 00 00 00 00 00 For tool development, the following test vector illustrates the encryption of the first given header above (EB 52 90 …) using CAST-128 with the default key shown above and the IV constructed as described, given this header occurs at the beginning of the first 512-byte block of the covert store. Plaintext:  EB 52 90 4E 54 46 53 20 Key:   A1 D2 10 B7 60 5E DA 0F A1 65 AF EF 79 C3 66 FA IV:   00 D2 10 B7 60 5E DA 0F Ciphertext:  C2 C7 F4 CA F7 DA 3A C8 By encrypting each possible initial filesystem byte sequence with CAST-128 using the key obtained from the registry—or the default encryption key if the registry entry does not exist—and searching for any file with a size that is an even multiple of 220, it is possible to efficiently detect Snake covert stores. Validation can be performed by decrypting the entire file using the outlined methodology and then verifying that it comprises an NTFS or FAT-16 filesystem. Other On-Disk Artifact Detection Registry Blob The registry blob is generally found at the location listed below. In case it is not present at its typical location, the registry blob can be found by searching the full registry for a value of at least 0x1000 bytes in size and entropy of at least 7.9. Typical Name: Unknown (RegBlob) Typical Path: HKLM\\\\SOFTWARE\\\\Classes\\\\.wav\\\\OpenWithProgIds Characteristics: High Entropy Queue File Typical Name: < RANDOM_GUID >.<RANDOM_GUID>.crmlog Typical Path: %windows\\\\registration\\\\ Unique Characteristics: High Entropy, file attributes of hidden, system, and archive Role: Snake Queue File The Snake Queue File generally has a predictable path and filename structure, in addition to being high entropy. The Snake Queue File can be located by scanning all files in the typical queue path with filenames matching a regular expression that captures the typical naming convention. Files meeting these criteria should be scanned for high entropy, which is performed by the Yara rule below: rule HighEntropy { '}]\n"
     ]
    }
   ],
   "source": [
    "# perform a similarity search between a query and the ingested documents\n",
    "pipeline = [\n",
    "    {\n",
    "        \"$search\": {\n",
    "            \"cosmosSearch\": {\n",
    "                \"vector\": embedded_query, # vector to search\n",
    "                \"path\": \"vector\", # path to property\n",
    "                \"k\": 3, # number of results to return\n",
    "            }\n",
    "        }\n",
    "    },\n",
    "    {\n",
    "        \"$project\": {\n",
    "            \"_id\": 0,\n",
    "            \"vector\": 0,\n",
    "        }\n",
    "    }\n",
    "]\n",
    "\n",
    "results = list(collection.aggregate(pipeline))\n",
    "print(results)"
   ]
  },
  {
   "cell_type": "code",
   "execution_count": 37,
   "metadata": {},
   "outputs": [],
   "source": [
    "# Create an instance of the AzureChatOpenAI class using Azure OpenAI\n",
    "llm = AzureChatOpenAI(\n",
    "    openai_api_type=\"azure\",\n",
    "    openai_api_key=OPENAI_API_KEY,\n",
    "    openai_api_base=OPENAI_DEPLOYMENT_ENDPOINT,\n",
    "    deployment_name=OPENAI_DEPLOYMENT_NAME,\n",
    "    model=OPENAI_MODEL_NAME,\n",
    "    temperature=0,\n",
    "    openai_api_version=OPENAI_DEPLOYMENT_VERSION)"
   ]
  },
  {
   "cell_type": "code",
   "execution_count": 38,
   "metadata": {},
   "outputs": [
    {
     "name": "stdout",
     "output_type": "stream",
     "text": [
      "The Snake malware has several key features, including the use of encrypted registry key data, a kernel driver and custom loader, and a covert store. Upon execution, Snake's WerFault.exe attempts to decrypt an encrypted blob within the Windows registry that includes the AES key, IV, and path used to find and decrypt the file containing Snake's kernel driver and kernel driver loader. The installer drops the kernel driver and a custom DLL into a single AES encrypted file on disk, typically named \"comadmin.dat\" and stored in the %windows%\\\\system32\\\\Com directory. The covert store is used to hide Snake's files and is detected by encrypting each possible initial filesystem byte sequence with CAST-128 using the key obtained from the registry and searching for any file with a size that is an even multiple of 220. Snake also uses a queue file with a predictable path and filename structure, in addition to being high entropy. Memory analysis is an effective approach to detecting Snake because it bypasses many of the behaviors that Snake employs to hide itself.\n"
     ]
    }
   ],
   "source": [
    "system_instructions = f\"Answer the user's question taking into consideration the following documents: {results}\"\n",
    "\n",
    "response = llm([SystemMessage(content=system_instructions), HumanMessage(content=query)])\n",
    "print(response.content)"
   ]
  }
 ],
 "metadata": {
  "kernelspec": {
   "display_name": ".venv",
   "language": "python",
   "name": "python3"
  },
  "language_info": {
   "codemirror_mode": {
    "name": "ipython",
    "version": 3
   },
   "file_extension": ".py",
   "mimetype": "text/x-python",
   "name": "python",
   "nbconvert_exporter": "python",
   "pygments_lexer": "ipython3",
   "version": "3.10.0"
  },
  "orig_nbformat": 4
 },
 "nbformat": 4,
 "nbformat_minor": 2
}
